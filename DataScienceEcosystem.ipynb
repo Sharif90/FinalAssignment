{
 "cells": [
  {
   "cell_type": "markdown",
   "id": "7a063786-a678-4fcd-89c5-37bf5ba2bd96",
   "metadata": {},
   "source": [
    "# Data Science Tools and Ecosystem"
   ]
  },
  {
   "cell_type": "markdown",
   "id": "8eccd8a4-65d4-4765-9d53-f96431028400",
   "metadata": {},
   "source": [
    "In this notebook, Data Science Tools and Ecosystem are summarized."
   ]
  },
  {
   "cell_type": "markdown",
   "id": "0f156472-f30b-4e72-a780-0c2cb6292e12",
   "metadata": {},
   "source": [
    "**Objectives:**\n",
    "\n",
    "- List popular languages for Data Science.\n",
    "- List commonly used libraries in Data Science.\n",
    "- List Data Science development tools.\n",
    "- Evaluate simple arithmetic expressions in Python.\n",
    "- Convert time (minutes) to hours in Python."
   ]
  },
  {
   "cell_type": "markdown",
   "id": "c150d9a7-5c79-4cc6-b886-9dc3d95976e5",
   "metadata": {},
   "source": [
    "Some of the popular languages that Data Scientists use are:\n",
    "\n",
    "1. Python\n",
    "2. R\n",
    "3. SQL\n",
    "4. Julia"
   ]
  },
  {
   "cell_type": "markdown",
   "id": "f7148b9f-db50-4f12-b800-77d3951f8f34",
   "metadata": {},
   "source": [
    "Some of the commonly used libraries used by Data Scientists include:\n",
    "\n",
    "1. Pandas\n",
    "2. NumPy\n",
    "3. Matplotlib\n",
    "4. Scikit-learn"
   ]
  },
  {
   "cell_type": "markdown",
   "id": "9e69dd20-aad5-4e6e-97e0-d6f14b1fa4bb",
   "metadata": {},
   "source": [
    "| Data Science Tools |\n",
    "|--------------------|\n",
    "| Jupyter Notebook   |\n",
    "| Apache Spark       |\n",
    "| RStudio            |"
   ]
  },
  {
   "cell_type": "markdown",
   "id": "09f3e029-828c-4f82-a2ae-c980d43edc48",
   "metadata": {},
   "source": [
    "### Below are a few examples of evaluating arithmetic expressions in Python"
   ]
  },
  {
   "cell_type": "code",
   "execution_count": 18,
   "id": "3a797f8c-a33f-4db4-a1e1-a2d418312d58",
   "metadata": {},
   "outputs": [
    {
     "data": {
      "text/plain": [
       "17"
      ]
     },
     "execution_count": 18,
     "metadata": {},
     "output_type": "execute_result"
    }
   ],
   "source": [
    "# This a simple arithmetic expression to mutiply then add integers\n",
    "\n",
    "(3*4)+5"
   ]
  },
  {
   "cell_type": "code",
   "execution_count": 22,
   "id": "74f1ae71-03c0-4e64-b0a3-a2b32eeab17f",
   "metadata": {},
   "outputs": [
    {
     "data": {
      "text/plain": [
       "3.3333333333333335"
      ]
     },
     "execution_count": 22,
     "metadata": {},
     "output_type": "execute_result"
    }
   ],
   "source": [
    "# This will convert 200 minutes to hours by diving by 60\n",
    "\n",
    "hours = 200 / 60\n",
    "\n",
    "hours"
   ]
  },
  {
   "cell_type": "markdown",
   "id": "37ab4e18-747b-42b3-91ef-7eba609d0f59",
   "metadata": {},
   "source": [
    "## Author\n",
    "\n",
    "Mohammad Alsharif"
   ]
  }
 ],
 "metadata": {
  "kernelspec": {
   "display_name": "Python 3 (ipykernel)",
   "language": "python",
   "name": "python3"
  },
  "language_info": {
   "codemirror_mode": {
    "name": "ipython",
    "version": 3
   },
   "file_extension": ".py",
   "mimetype": "text/x-python",
   "name": "python",
   "nbconvert_exporter": "python",
   "pygments_lexer": "ipython3",
   "version": "3.12.2"
  }
 },
 "nbformat": 4,
 "nbformat_minor": 5
}
